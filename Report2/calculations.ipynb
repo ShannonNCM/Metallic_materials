{
 "cells": [
  {
   "cell_type": "code",
   "execution_count": null,
   "id": "c503e6aa",
   "metadata": {},
   "outputs": [],
   "source": [
    "#aca van los calculos para el ejercicio 2.2"
   ]
  }
 ],
 "metadata": {
  "language_info": {
   "name": "python"
  }
 },
 "nbformat": 4,
 "nbformat_minor": 5
}
