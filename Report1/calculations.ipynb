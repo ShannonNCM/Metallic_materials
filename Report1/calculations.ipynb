{
 "cells": [
  {
   "cell_type": "code",
   "execution_count": 1,
   "id": "faf5726a",
   "metadata": {},
   "outputs": [],
   "source": [
    "import numpy as np\n",
    "import matplotlib.pyplot as plt\n",
    "import pandas as pd\n",
    "import funciones as f\n",
    "import os"
   ]
  },
  {
   "cell_type": "code",
   "execution_count": 2,
   "id": "72a671d2",
   "metadata": {},
   "outputs": [
    {
     "data": {
      "application/vnd.microsoft.datawrangler.viewer.v0+json": {
       "columns": [
        {
         "name": "index",
         "rawType": "int64",
         "type": "integer"
        },
        {
         "name": "system",
         "rawType": "object",
         "type": "string"
        },
        {
         "name": "type",
         "rawType": "object",
         "type": "string"
        },
        {
         "name": "D_0",
         "rawType": "float64",
         "type": "float"
        },
        {
         "name": "Q",
         "rawType": "float64",
         "type": "float"
        },
        {
         "name": "t_min",
         "rawType": "int64",
         "type": "integer"
        },
        {
         "name": "t_max",
         "rawType": "int64",
         "type": "integer"
        }
       ],
       "ref": "01128700-4b90-44f5-8fb2-0bcbdd6ee16e",
       "rows": [
        [
         "0",
         "Ag_Ag",
         "self",
         "2.7e-05",
         "182.96",
         "980",
         "1250"
        ],
        [
         "1",
         "Al_Al",
         "self",
         "1.37e-05",
         "124.0",
         "583",
         "953"
        ],
        [
         "2",
         "Cu_Cu",
         "self",
         "0.000105",
         "210.0",
         "845",
         "1111"
        ],
        [
         "3",
         "Ti_Ti",
         "self",
         "0.00034",
         "328.0",
         "1939",
         "1941"
        ],
        [
         "4",
         "Ag_Cu",
         "solute",
         "3.1e-10",
         "72.0",
         "498",
         "573"
        ],
        [
         "5",
         "Ag_Pt",
         "solute",
         "1.3e-05",
         "258.0",
         "1473",
         "1873"
        ],
        [
         "6",
         "Ag_Ti",
         "solute",
         "0.0001",
         "279.0",
         "823",
         "1073"
        ],
        [
         "7",
         "Al_Cu",
         "solute",
         "8e-06",
         "181.0",
         "973",
         "1348"
        ],
        [
         "8",
         "Al_Pt",
         "solute",
         "1.3e-07",
         "194.0",
         "1373",
         "1873"
        ],
        [
         "9",
         "Al_Ti",
         "solute",
         "0.0066",
         "329.0",
         "930",
         "1140"
        ]
       ],
       "shape": {
        "columns": 6,
        "rows": 10
       }
      },
      "text/html": [
       "<div>\n",
       "<style scoped>\n",
       "    .dataframe tbody tr th:only-of-type {\n",
       "        vertical-align: middle;\n",
       "    }\n",
       "\n",
       "    .dataframe tbody tr th {\n",
       "        vertical-align: top;\n",
       "    }\n",
       "\n",
       "    .dataframe thead th {\n",
       "        text-align: right;\n",
       "    }\n",
       "</style>\n",
       "<table border=\"1\" class=\"dataframe\">\n",
       "  <thead>\n",
       "    <tr style=\"text-align: right;\">\n",
       "      <th></th>\n",
       "      <th>system</th>\n",
       "      <th>type</th>\n",
       "      <th>D_0</th>\n",
       "      <th>Q</th>\n",
       "      <th>t_min</th>\n",
       "      <th>t_max</th>\n",
       "    </tr>\n",
       "  </thead>\n",
       "  <tbody>\n",
       "    <tr>\n",
       "      <th>0</th>\n",
       "      <td>Ag_Ag</td>\n",
       "      <td>self</td>\n",
       "      <td>2.700000e-05</td>\n",
       "      <td>182.96</td>\n",
       "      <td>980</td>\n",
       "      <td>1250</td>\n",
       "    </tr>\n",
       "    <tr>\n",
       "      <th>1</th>\n",
       "      <td>Al_Al</td>\n",
       "      <td>self</td>\n",
       "      <td>1.370000e-05</td>\n",
       "      <td>124.00</td>\n",
       "      <td>583</td>\n",
       "      <td>953</td>\n",
       "    </tr>\n",
       "    <tr>\n",
       "      <th>2</th>\n",
       "      <td>Cu_Cu</td>\n",
       "      <td>self</td>\n",
       "      <td>1.050000e-04</td>\n",
       "      <td>210.00</td>\n",
       "      <td>845</td>\n",
       "      <td>1111</td>\n",
       "    </tr>\n",
       "    <tr>\n",
       "      <th>3</th>\n",
       "      <td>Ti_Ti</td>\n",
       "      <td>self</td>\n",
       "      <td>3.400000e-04</td>\n",
       "      <td>328.00</td>\n",
       "      <td>1939</td>\n",
       "      <td>1941</td>\n",
       "    </tr>\n",
       "    <tr>\n",
       "      <th>4</th>\n",
       "      <td>Ag_Cu</td>\n",
       "      <td>solute</td>\n",
       "      <td>3.100000e-10</td>\n",
       "      <td>72.00</td>\n",
       "      <td>498</td>\n",
       "      <td>573</td>\n",
       "    </tr>\n",
       "    <tr>\n",
       "      <th>5</th>\n",
       "      <td>Ag_Pt</td>\n",
       "      <td>solute</td>\n",
       "      <td>1.300000e-05</td>\n",
       "      <td>258.00</td>\n",
       "      <td>1473</td>\n",
       "      <td>1873</td>\n",
       "    </tr>\n",
       "    <tr>\n",
       "      <th>6</th>\n",
       "      <td>Ag_Ti</td>\n",
       "      <td>solute</td>\n",
       "      <td>1.000000e-04</td>\n",
       "      <td>279.00</td>\n",
       "      <td>823</td>\n",
       "      <td>1073</td>\n",
       "    </tr>\n",
       "    <tr>\n",
       "      <th>7</th>\n",
       "      <td>Al_Cu</td>\n",
       "      <td>solute</td>\n",
       "      <td>8.000000e-06</td>\n",
       "      <td>181.00</td>\n",
       "      <td>973</td>\n",
       "      <td>1348</td>\n",
       "    </tr>\n",
       "    <tr>\n",
       "      <th>8</th>\n",
       "      <td>Al_Pt</td>\n",
       "      <td>solute</td>\n",
       "      <td>1.300000e-07</td>\n",
       "      <td>194.00</td>\n",
       "      <td>1373</td>\n",
       "      <td>1873</td>\n",
       "    </tr>\n",
       "    <tr>\n",
       "      <th>9</th>\n",
       "      <td>Al_Ti</td>\n",
       "      <td>solute</td>\n",
       "      <td>6.600000e-03</td>\n",
       "      <td>329.00</td>\n",
       "      <td>930</td>\n",
       "      <td>1140</td>\n",
       "    </tr>\n",
       "  </tbody>\n",
       "</table>\n",
       "</div>"
      ],
      "text/plain": [
       "  system    type           D_0       Q  t_min  t_max\n",
       "0  Ag_Ag    self  2.700000e-05  182.96    980   1250\n",
       "1  Al_Al    self  1.370000e-05  124.00    583    953\n",
       "2  Cu_Cu    self  1.050000e-04  210.00    845   1111\n",
       "3  Ti_Ti    self  3.400000e-04  328.00   1939   1941\n",
       "4  Ag_Cu  solute  3.100000e-10   72.00    498    573\n",
       "5  Ag_Pt  solute  1.300000e-05  258.00   1473   1873\n",
       "6  Ag_Ti  solute  1.000000e-04  279.00    823   1073\n",
       "7  Al_Cu  solute  8.000000e-06  181.00    973   1348\n",
       "8  Al_Pt  solute  1.300000e-07  194.00   1373   1873\n",
       "9  Al_Ti  solute  6.600000e-03  329.00    930   1140"
      ]
     },
     "execution_count": 2,
     "metadata": {},
     "output_type": "execute_result"
    }
   ],
   "source": [
    "#importamos el archivo con los datos\n",
    "file_name = 'Report1.xlsx'\n",
    "sheet_name = 'data'\n",
    "df = pd.read_excel(file_name, sheet_name=sheet_name)\n",
    "df"
   ]
  },
  {
   "cell_type": "code",
   "execution_count": 3,
   "id": "f6d53b2a",
   "metadata": {},
   "outputs": [],
   "source": [
    "#voy a usar tempraturas desde 450 a 1900 K\n",
    "T_range = np.linspace(450, 1950, 100)"
   ]
  },
  {
   "cell_type": "code",
   "execution_count": 4,
   "id": "e0397f70",
   "metadata": {},
   "outputs": [],
   "source": [
    "#guardo los dataframes en un diccionario\n",
    "systems_self = {}\n",
    "systems_other = {}\n",
    "\n",
    "for idx, row in df.iterrows():\n",
    "    D = f.diffusion(T_range, row['D_0'], row['Q'])\n",
    "    ln_D = np.log(D)\n",
    "    T_m1 = 1/T_range\n",
    "\n",
    "    systems_df = pd.DataFrame(\n",
    "        {\n",
    "            'T' : T_range,\n",
    "            'D(T)' : D,\n",
    "            'D_0' : row['D_0'],\n",
    "            'Q (kJ/mol)' : row['Q'],\n",
    "            'ln(D)' : ln_D,\n",
    "            '1/T' : T_m1\n",
    "        }\n",
    "    )\n",
    "    if row['type'] == 'self':\n",
    "        systems_self[row['system']] = systems_df\n",
    "    else:\n",
    "        systems_other[row['system']] = systems_df"
   ]
  },
  {
   "cell_type": "code",
   "execution_count": 5,
   "id": "13b69c1a",
   "metadata": {},
   "outputs": [],
   "source": [
    "#systems_self['Al_Al']"
   ]
  },
  {
   "cell_type": "code",
   "execution_count": 6,
   "id": "a60f2e2c",
   "metadata": {},
   "outputs": [],
   "source": [
    "#systems_other['Ag_Cu']"
   ]
  },
  {
   "cell_type": "code",
   "execution_count": 7,
   "id": "32b34cda",
   "metadata": {},
   "outputs": [
    {
     "data": {
      "application/vnd.microsoft.datawrangler.viewer.v0+json": {
       "columns": [
        {
         "name": "index",
         "rawType": "int64",
         "type": "integer"
        },
        {
         "name": "system",
         "rawType": "object",
         "type": "string"
        },
        {
         "name": "type",
         "rawType": "object",
         "type": "string"
        },
        {
         "name": "D_0",
         "rawType": "float64",
         "type": "float"
        },
        {
         "name": "Q",
         "rawType": "float64",
         "type": "float"
        },
        {
         "name": "t_min",
         "rawType": "int64",
         "type": "integer"
        },
        {
         "name": "t_max",
         "rawType": "int64",
         "type": "integer"
        },
        {
         "name": "D_roomT",
         "rawType": "float64",
         "type": "float"
        }
       ],
       "ref": "bac37c09-d1ac-4606-93e5-99d80f0e72f6",
       "rows": [
        [
         "0",
         "Ag_Ag",
         "self",
         "2.7e-05",
         "182.96",
         "980",
         "1250",
         "2.2921336369249844e-37"
        ],
        [
         "1",
         "Al_Al",
         "self",
         "1.37e-05",
         "124.0",
         "583",
         "953",
         "2.5160323604797956e-27"
        ],
        [
         "2",
         "Cu_Cu",
         "self",
         "0.000105",
         "210.0",
         "845",
         "1111",
         "1.6226101913471994e-41"
        ],
        [
         "3",
         "Ti_Ti",
         "self",
         "0.00034",
         "328.0",
         "1939",
         "1941",
         "1.0870302215477916e-61"
        ],
        [
         "4",
         "Ag_Cu",
         "solute",
         "3.1e-10",
         "72.0",
         "498",
         "573",
         "7.42088916766576e-23"
        ],
        [
         "5",
         "Ag_Pt",
         "solute",
         "1.3e-05",
         "258.0",
         "1473",
         "1873",
         "7.745172360786673e-51"
        ],
        [
         "6",
         "Ag_Ti",
         "solute",
         "0.0001",
         "279.0",
         "823",
         "1073",
         "1.2416243602282443e-53"
        ],
        [
         "7",
         "Al_Cu",
         "solute",
         "8e-06",
         "181.0",
         "973",
         "1348",
         "1.4980808698593202e-37"
        ],
        [
         "8",
         "Al_Pt",
         "solute",
         "1.3e-07",
         "194.0",
         "1373",
         "1873",
         "1.2811912811169943e-41"
        ],
        [
         "9",
         "Al_Ti",
         "solute",
         "0.0066",
         "329.0",
         "930",
         "1140",
         "1.4093416260710008e-60"
        ]
       ],
       "shape": {
        "columns": 7,
        "rows": 10
       }
      },
      "text/html": [
       "<div>\n",
       "<style scoped>\n",
       "    .dataframe tbody tr th:only-of-type {\n",
       "        vertical-align: middle;\n",
       "    }\n",
       "\n",
       "    .dataframe tbody tr th {\n",
       "        vertical-align: top;\n",
       "    }\n",
       "\n",
       "    .dataframe thead th {\n",
       "        text-align: right;\n",
       "    }\n",
       "</style>\n",
       "<table border=\"1\" class=\"dataframe\">\n",
       "  <thead>\n",
       "    <tr style=\"text-align: right;\">\n",
       "      <th></th>\n",
       "      <th>system</th>\n",
       "      <th>type</th>\n",
       "      <th>D_0</th>\n",
       "      <th>Q</th>\n",
       "      <th>t_min</th>\n",
       "      <th>t_max</th>\n",
       "      <th>D_roomT</th>\n",
       "    </tr>\n",
       "  </thead>\n",
       "  <tbody>\n",
       "    <tr>\n",
       "      <th>0</th>\n",
       "      <td>Ag_Ag</td>\n",
       "      <td>self</td>\n",
       "      <td>2.700000e-05</td>\n",
       "      <td>182.96</td>\n",
       "      <td>980</td>\n",
       "      <td>1250</td>\n",
       "      <td>2.292134e-37</td>\n",
       "    </tr>\n",
       "    <tr>\n",
       "      <th>1</th>\n",
       "      <td>Al_Al</td>\n",
       "      <td>self</td>\n",
       "      <td>1.370000e-05</td>\n",
       "      <td>124.00</td>\n",
       "      <td>583</td>\n",
       "      <td>953</td>\n",
       "      <td>2.516032e-27</td>\n",
       "    </tr>\n",
       "    <tr>\n",
       "      <th>2</th>\n",
       "      <td>Cu_Cu</td>\n",
       "      <td>self</td>\n",
       "      <td>1.050000e-04</td>\n",
       "      <td>210.00</td>\n",
       "      <td>845</td>\n",
       "      <td>1111</td>\n",
       "      <td>1.622610e-41</td>\n",
       "    </tr>\n",
       "    <tr>\n",
       "      <th>3</th>\n",
       "      <td>Ti_Ti</td>\n",
       "      <td>self</td>\n",
       "      <td>3.400000e-04</td>\n",
       "      <td>328.00</td>\n",
       "      <td>1939</td>\n",
       "      <td>1941</td>\n",
       "      <td>1.087030e-61</td>\n",
       "    </tr>\n",
       "    <tr>\n",
       "      <th>4</th>\n",
       "      <td>Ag_Cu</td>\n",
       "      <td>solute</td>\n",
       "      <td>3.100000e-10</td>\n",
       "      <td>72.00</td>\n",
       "      <td>498</td>\n",
       "      <td>573</td>\n",
       "      <td>7.420889e-23</td>\n",
       "    </tr>\n",
       "    <tr>\n",
       "      <th>5</th>\n",
       "      <td>Ag_Pt</td>\n",
       "      <td>solute</td>\n",
       "      <td>1.300000e-05</td>\n",
       "      <td>258.00</td>\n",
       "      <td>1473</td>\n",
       "      <td>1873</td>\n",
       "      <td>7.745172e-51</td>\n",
       "    </tr>\n",
       "    <tr>\n",
       "      <th>6</th>\n",
       "      <td>Ag_Ti</td>\n",
       "      <td>solute</td>\n",
       "      <td>1.000000e-04</td>\n",
       "      <td>279.00</td>\n",
       "      <td>823</td>\n",
       "      <td>1073</td>\n",
       "      <td>1.241624e-53</td>\n",
       "    </tr>\n",
       "    <tr>\n",
       "      <th>7</th>\n",
       "      <td>Al_Cu</td>\n",
       "      <td>solute</td>\n",
       "      <td>8.000000e-06</td>\n",
       "      <td>181.00</td>\n",
       "      <td>973</td>\n",
       "      <td>1348</td>\n",
       "      <td>1.498081e-37</td>\n",
       "    </tr>\n",
       "    <tr>\n",
       "      <th>8</th>\n",
       "      <td>Al_Pt</td>\n",
       "      <td>solute</td>\n",
       "      <td>1.300000e-07</td>\n",
       "      <td>194.00</td>\n",
       "      <td>1373</td>\n",
       "      <td>1873</td>\n",
       "      <td>1.281191e-41</td>\n",
       "    </tr>\n",
       "    <tr>\n",
       "      <th>9</th>\n",
       "      <td>Al_Ti</td>\n",
       "      <td>solute</td>\n",
       "      <td>6.600000e-03</td>\n",
       "      <td>329.00</td>\n",
       "      <td>930</td>\n",
       "      <td>1140</td>\n",
       "      <td>1.409342e-60</td>\n",
       "    </tr>\n",
       "  </tbody>\n",
       "</table>\n",
       "</div>"
      ],
      "text/plain": [
       "  system    type           D_0       Q  t_min  t_max       D_roomT\n",
       "0  Ag_Ag    self  2.700000e-05  182.96    980   1250  2.292134e-37\n",
       "1  Al_Al    self  1.370000e-05  124.00    583    953  2.516032e-27\n",
       "2  Cu_Cu    self  1.050000e-04  210.00    845   1111  1.622610e-41\n",
       "3  Ti_Ti    self  3.400000e-04  328.00   1939   1941  1.087030e-61\n",
       "4  Ag_Cu  solute  3.100000e-10   72.00    498    573  7.420889e-23\n",
       "5  Ag_Pt  solute  1.300000e-05  258.00   1473   1873  7.745172e-51\n",
       "6  Ag_Ti  solute  1.000000e-04  279.00    823   1073  1.241624e-53\n",
       "7  Al_Cu  solute  8.000000e-06  181.00    973   1348  1.498081e-37\n",
       "8  Al_Pt  solute  1.300000e-07  194.00   1373   1873  1.281191e-41\n",
       "9  Al_Ti  solute  6.600000e-03  329.00    930   1140  1.409342e-60"
      ]
     },
     "execution_count": 7,
     "metadata": {},
     "output_type": "execute_result"
    }
   ],
   "source": [
    "#calculamos D(T) para la T que queremos\n",
    "T_2 = 278 #temp in Kelvin\n",
    "df_2 = df\n",
    "df_2['D_roomT'] = df_2.apply(lambda row: f.diffusion(298, row['D_0'], row['Q']), axis=1)\n",
    "df_2"
   ]
  },
  {
   "cell_type": "code",
   "execution_count": 8,
   "id": "0e95ec00",
   "metadata": {},
   "outputs": [],
   "source": [
    "#para el tiempo\n",
    "t = np.linspace(1, 1e3, 100)\n",
    "#t"
   ]
  },
  {
   "cell_type": "code",
   "execution_count": 9,
   "id": "e8875301",
   "metadata": {},
   "outputs": [],
   "source": [
    "systems_self2 = {}\n",
    "systems_other2 = {}\n",
    "\n",
    "for idx, row in df_2.iterrows():\n",
    "    x = f.distance(row['D_roomT'],t)\n",
    "    log_x = np.log10(x)\n",
    "    log_t = np.log10(t)\n",
    "\n",
    "    systems_df = pd.DataFrame(\n",
    "        {\n",
    "            'l' : x,\n",
    "            'D(T)' : row['D_0'],\n",
    "            't' : t,\n",
    "            'log(l)' : log_x,\n",
    "            'log(t)' : log_t\n",
    "        }\n",
    "    )\n",
    "    if row['type'] == 'self':\n",
    "        systems_self2[row['system']] = systems_df\n",
    "    else:\n",
    "        systems_other2[row['system']] = systems_df"
   ]
  },
  {
   "cell_type": "code",
   "execution_count": 10,
   "id": "a9e9f146",
   "metadata": {},
   "outputs": [],
   "source": [
    "#systems_self2['Ag_Ag']"
   ]
  },
  {
   "cell_type": "markdown",
   "id": "acaca6a4",
   "metadata": {},
   "source": [
    "Graficas"
   ]
  },
  {
   "cell_type": "code",
   "execution_count": 16,
   "id": "fdc3d5d9",
   "metadata": {},
   "outputs": [],
   "source": [
    "#grafica del coeficiente de difusion\n",
    "f.plot(dataframe=systems_self, x_axis='T', y_axis='D(T)', x_label='T (K)', y_label='D (m^2/s)', type='self')\n",
    "f.plot(dataframe=systems_other, x_axis='T', y_axis='D(T)', x_label='T (K)', y_label='D (m^2/s)', type='other')\n",
    "#grafica del logaritmo del coeficiente de difusion\n",
    "f.plot(dataframe=systems_self, x_axis='1/T', y_axis='ln(D)', x_label='1/T (1/K)', y_label='ln(D)', type='self')\n",
    "f.plot(dataframe=systems_other, x_axis='1/T', y_axis='ln(D)', x_label='1/T (1/K)', y_label='ln(D)', type='other')"
   ]
  },
  {
   "cell_type": "code",
   "execution_count": 18,
   "id": "b03cc1a8",
   "metadata": {},
   "outputs": [],
   "source": [
    "#grafica de la distancia\n",
    "f.plot(dataframe=systems_self2, x_axis='t', y_axis='l', x_label='t', y_label='l', type='self')\n",
    "f.plot(dataframe=systems_other2, x_axis='t', y_axis='l', x_label='t', y_label='l', type='other')\n",
    "#grafica del logaritmo de la distancia\n",
    "f.plot(dataframe=systems_self2, x_axis='log(t)', y_axis='log(l)', x_label='log(t)', y_label='log(l)', type='self')\n",
    "f.plot(dataframe=systems_other2, x_axis='log(t)', y_axis='log(l)', x_label='log(t)', y_label='log(l)', type='other')"
   ]
  },
  {
   "cell_type": "code",
   "execution_count": null,
   "id": "35fcc503",
   "metadata": {},
   "outputs": [],
   "source": [
    "#f.plot2(dataframe=systems, x_axis='1/T', y_axis='ln(D)', x_label='1/T (1/K)', y_label='ln(D)')"
   ]
  },
  {
   "cell_type": "code",
   "execution_count": null,
   "id": "b44eb336",
   "metadata": {},
   "outputs": [],
   "source": [
    "#f.plot2(dataframe=systems_2, x_axis='t', y_axis='l', x_label='t', y_label='l')"
   ]
  },
  {
   "cell_type": "code",
   "execution_count": null,
   "id": "91250f3d",
   "metadata": {},
   "outputs": [],
   "source": [
    "#f.plot2(dataframe=systems_2, x_axis='log(t)', y_axis='log(l)', x_label='log(t)', y_label='log(l)')"
   ]
  }
 ],
 "metadata": {
  "kernelspec": {
   "display_name": "Python 3",
   "language": "python",
   "name": "python3"
  },
  "language_info": {
   "codemirror_mode": {
    "name": "ipython",
    "version": 3
   },
   "file_extension": ".py",
   "mimetype": "text/x-python",
   "name": "python",
   "nbconvert_exporter": "python",
   "pygments_lexer": "ipython3",
   "version": "3.11.4"
  }
 },
 "nbformat": 4,
 "nbformat_minor": 5
}
